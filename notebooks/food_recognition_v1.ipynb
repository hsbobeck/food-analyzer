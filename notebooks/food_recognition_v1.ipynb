{
  "cells": [
    {
      "cell_type": "markdown",
      "id": "30ae3992-8488-4e80-aadc-470af20fb459",
      "metadata": {
        "id": "30ae3992-8488-4e80-aadc-470af20fb459"
      },
      "source": [
        "# Food recognition (drafting a solution)\n",
        "input image including some food -> output label (name of food)"
      ]
    },
    {
      "cell_type": "markdown",
      "id": "54d51f59-96c7-4fae-a03e-d6ba02a6cb0c",
      "metadata": {
        "id": "54d51f59-96c7-4fae-a03e-d6ba02a6cb0c"
      },
      "source": [
        "Resources:\n",
        "- preprocessing with image augmentation to reduce overfitting + useful visualization of results\n",
        "    - https://www.learndatasci.com/tutorials/convolutional-neural-networks-image-classification/#ImplementationofaCNNinKeras\n",
        "- vgg16 with food101\n",
        "    - https://www.kaggle.com/code/kmader/food-train-vgg16-from-scratch/notebook\n",
        "    - https://www.learndatasci.com/tutorials/hands-on-transfer-learning-keras/\n",
        "- building an image data pipeline\n",
        "    - https://cs230.stanford.edu/blog/datapipeline/#building-an-image-data-pipeline\n",
        "    - https://www.youtube.com/watch?v=VFEOskzhhbc\n",
        "- look into transfer learning with vgg-16, to get better results with less data \n",
        "    - https://towardsdatascience.com/transfer-learning-with-vgg16-and-keras-50ea161580b4\n",
        "    - https://medium.com/@1297rohit/transfer-learning-from-scratch-using-keras-339834b153b9\n",
        "- look into allowing multi-class prediction / multiple objects in one image\n",
        "    - https://pyimagesearch.com/2020/10/12/multi-class-object-detection-and-bounding-box-regression-with-keras-tensorflow-and-deep-learning/"
      ]
    },
    {
      "cell_type": "markdown",
      "id": "418669ab-36b4-47d1-8f1a-e907f92e0301",
      "metadata": {
        "tags": [],
        "id": "418669ab-36b4-47d1-8f1a-e907f92e0301"
      },
      "source": [
        "## Data Preparation"
      ]
    },
    {
      "cell_type": "code",
      "execution_count": null,
      "id": "c98e143b-a2a1-4cd9-a596-9fea71cd4459",
      "metadata": {
        "id": "c98e143b-a2a1-4cd9-a596-9fea71cd4459"
      },
      "outputs": [],
      "source": [
        "import numpy as np\n",
        "import tensorflow as tf\n",
        "import tensorflow_datasets as tfds\n",
        "from keras_preprocessing.image import ImageDataGenerator\n",
        "from keras.utils.np_utils import to_categorical\n",
        "import matplotlib.pyplot as plt\n",
        "from IPython.display import clear_output\n",
        "import os\n",
        "from glob import glob\n",
        "import pandas as pd"
      ]
    },
    {
      "cell_type": "markdown",
      "id": "098e3685-f6ad-411d-aa50-74e06b6ec720",
      "metadata": {
        "id": "098e3685-f6ad-411d-aa50-74e06b6ec720"
      },
      "source": [
        "### Load food dataset:\n",
        "\n",
        "(Hub) food-recognition-2022: https://www.kaggle.com/code/sainikhileshreddy/how-to-use-the-dataset/notebook\n",
        "- multiple object classifications, bounding boxes\n",
        "\n",
        "(Hub) food-101-dataset-train: https://app.activeloop.ai/activeloop/food-101-dataset-train\n",
        "- single object classifications\n",
        "\n",
        "food-101 from file structure usage\n",
        "- http://blog.stratospark.com/deep-learning-applied-food-classification-deep-learning-keras.html\n",
        "- https://www.kaggle.com/code/themlphdstudent/food-classification-using-inceptionv3/notebook\n"
      ]
    },
    {
      "cell_type": "code",
      "execution_count": null,
      "id": "510b9181-66fb-4903-ac73-e23ddc4ce76e",
      "metadata": {
        "id": "510b9181-66fb-4903-ac73-e23ddc4ce76e"
      },
      "outputs": [],
      "source": [
        "#ds_train_original = hub.load('hub://activeloop/food-101-dataset-train')\n",
        "#ds_train_original, info = tfds.load('food101', split='train', with_info=True)\n",
        "\n",
        "# Download raw food101 dataset to file structure.\n",
        "#   I attempted first to use Hub datasets, however after banging my head against\n",
        "#   a wall finally gave up because they don't appear to be integrated very well\n",
        "#   with tensorflow. Or at least, I couldn't figure it out, and kept running into\n",
        "#   more and more problems the deeper I went. \n",
        "#   Second I tried to use tfds.load to load food101 straight as a tf Dataset. \n",
        "#   But I couldn't figure out how to get the class label names, and in general\n",
        "#   am confounded with the enigma of the tf Dataset structure when I'm not the\n",
        "#   one that creates it, so figured by this point I should just download the \n",
        "#   raw files because I know how to deal with a file structure, and I know how \n",
        "#   to later add more custom data to said file structure. \n",
        "#   (ie, making a data folder for bananas, and adding my own data.)\n",
        "#   So here we are:\n",
        "!wget http://data.vision.ee.ethz.ch/cvl/food-101.tar.gz\n",
        "!tar xzvf food-101.tar.gz\n",
        "clear_output()"
      ]
    },
    {
      "cell_type": "markdown",
      "source": [
        "class_names & num_classes"
      ],
      "metadata": {
        "id": "Bjcrna2mMjSZ"
      },
      "id": "Bjcrna2mMjSZ"
    },
    {
      "cell_type": "code",
      "source": [
        "# save class names into list class_names for later\n",
        "classes_file = open(\"food-101/meta/classes.txt\", \"r\")\n",
        "# read lines into a list of class names, ignoring empty lines\n",
        "class_names = [line.strip() for line in classes_file.readlines() if line.strip()]\n",
        "classes_file.close()\n",
        "# save num_classes\n",
        "num_classes = len(class_names)\n",
        "print(\"number of classes: \",num_classes)"
      ],
      "metadata": {
        "colab": {
          "base_uri": "https://localhost:8080/"
        },
        "id": "Ucg5Q2Lhtzza",
        "outputId": "d33ed825-e4fa-4a78-c04e-7071fbd55ee0"
      },
      "id": "Ucg5Q2Lhtzza",
      "execution_count": null,
      "outputs": [
        {
          "output_type": "stream",
          "name": "stdout",
          "text": [
            "number of classes:  101\n"
          ]
        }
      ]
    },
    {
      "cell_type": "markdown",
      "source": [
        "Prepare data into a pd dataframe before creating the tf Dataset"
      ],
      "metadata": {
        "id": "3fRnW_WPM1m8"
      },
      "id": "3fRnW_WPM1m8"
    },
    {
      "cell_type": "code",
      "source": [
        "# grab list of all image filepaths\n",
        "all_images = glob(os.path.join('food-101', 'images', '*', '*'))\n",
        "# save the image count for later\n",
        "image_count = len(all_images)\n",
        "# create the df with path column\n",
        "df = pd.DataFrame(dict(path = all_images))\n",
        "# add class_name column\n",
        "df['class_name'] = df['path'].map(lambda x: x.split('/')[-2])\n",
        "# add class column\n",
        "# (class is the one-hot-encoded version of the class_name, ordered the same as the class_names list)\n",
        "df['class'] = df['class_name'].map(lambda x: to_categorical(class_names.index(x), num_classes=num_classes))\n",
        "# print image count\n",
        "print(image_count)\n",
        "# show sample of df\n",
        "df.sample(3)"
      ],
      "metadata": {
        "colab": {
          "base_uri": "https://localhost:8080/",
          "height": 161
        },
        "id": "bky-eSQhJS_g",
        "outputId": "1b3e9ed1-9ab1-41fa-d133-8cfaeb87be5c"
      },
      "id": "bky-eSQhJS_g",
      "execution_count": null,
      "outputs": [
        {
          "output_type": "stream",
          "name": "stdout",
          "text": [
            "101000\n"
          ]
        },
        {
          "output_type": "execute_result",
          "data": {
            "text/plain": [
              "                                                   path            class_name  \\\n",
              "10645  food-101/images/strawberry_shortcake/1722042.jpg  strawberry_shortcake   \n",
              "27165           food-101/images/carrot_cake/2425189.jpg           carrot_cake   \n",
              "78205               food-101/images/waffles/3014777.jpg               waffles   \n",
              "\n",
              "                                                   class  \n",
              "10645  [0.0, 0.0, 0.0, 0.0, 0.0, 0.0, 0.0, 0.0, 0.0, ...  \n",
              "27165  [0.0, 0.0, 0.0, 0.0, 0.0, 0.0, 0.0, 0.0, 0.0, ...  \n",
              "78205  [0.0, 0.0, 0.0, 0.0, 0.0, 0.0, 0.0, 0.0, 0.0, ...  "
            ],
            "text/html": [
              "\n",
              "  <div id=\"df-664eb8ff-7fca-422a-b9d2-22fea6a27042\">\n",
              "    <div class=\"colab-df-container\">\n",
              "      <div>\n",
              "<style scoped>\n",
              "    .dataframe tbody tr th:only-of-type {\n",
              "        vertical-align: middle;\n",
              "    }\n",
              "\n",
              "    .dataframe tbody tr th {\n",
              "        vertical-align: top;\n",
              "    }\n",
              "\n",
              "    .dataframe thead th {\n",
              "        text-align: right;\n",
              "    }\n",
              "</style>\n",
              "<table border=\"1\" class=\"dataframe\">\n",
              "  <thead>\n",
              "    <tr style=\"text-align: right;\">\n",
              "      <th></th>\n",
              "      <th>path</th>\n",
              "      <th>class_name</th>\n",
              "      <th>class</th>\n",
              "    </tr>\n",
              "  </thead>\n",
              "  <tbody>\n",
              "    <tr>\n",
              "      <th>10645</th>\n",
              "      <td>food-101/images/strawberry_shortcake/1722042.jpg</td>\n",
              "      <td>strawberry_shortcake</td>\n",
              "      <td>[0.0, 0.0, 0.0, 0.0, 0.0, 0.0, 0.0, 0.0, 0.0, ...</td>\n",
              "    </tr>\n",
              "    <tr>\n",
              "      <th>27165</th>\n",
              "      <td>food-101/images/carrot_cake/2425189.jpg</td>\n",
              "      <td>carrot_cake</td>\n",
              "      <td>[0.0, 0.0, 0.0, 0.0, 0.0, 0.0, 0.0, 0.0, 0.0, ...</td>\n",
              "    </tr>\n",
              "    <tr>\n",
              "      <th>78205</th>\n",
              "      <td>food-101/images/waffles/3014777.jpg</td>\n",
              "      <td>waffles</td>\n",
              "      <td>[0.0, 0.0, 0.0, 0.0, 0.0, 0.0, 0.0, 0.0, 0.0, ...</td>\n",
              "    </tr>\n",
              "  </tbody>\n",
              "</table>\n",
              "</div>\n",
              "      <button class=\"colab-df-convert\" onclick=\"convertToInteractive('df-664eb8ff-7fca-422a-b9d2-22fea6a27042')\"\n",
              "              title=\"Convert this dataframe to an interactive table.\"\n",
              "              style=\"display:none;\">\n",
              "        \n",
              "  <svg xmlns=\"http://www.w3.org/2000/svg\" height=\"24px\"viewBox=\"0 0 24 24\"\n",
              "       width=\"24px\">\n",
              "    <path d=\"M0 0h24v24H0V0z\" fill=\"none\"/>\n",
              "    <path d=\"M18.56 5.44l.94 2.06.94-2.06 2.06-.94-2.06-.94-.94-2.06-.94 2.06-2.06.94zm-11 1L8.5 8.5l.94-2.06 2.06-.94-2.06-.94L8.5 2.5l-.94 2.06-2.06.94zm10 10l.94 2.06.94-2.06 2.06-.94-2.06-.94-.94-2.06-.94 2.06-2.06.94z\"/><path d=\"M17.41 7.96l-1.37-1.37c-.4-.4-.92-.59-1.43-.59-.52 0-1.04.2-1.43.59L10.3 9.45l-7.72 7.72c-.78.78-.78 2.05 0 2.83L4 21.41c.39.39.9.59 1.41.59.51 0 1.02-.2 1.41-.59l7.78-7.78 2.81-2.81c.8-.78.8-2.07 0-2.86zM5.41 20L4 18.59l7.72-7.72 1.47 1.35L5.41 20z\"/>\n",
              "  </svg>\n",
              "      </button>\n",
              "      \n",
              "  <style>\n",
              "    .colab-df-container {\n",
              "      display:flex;\n",
              "      flex-wrap:wrap;\n",
              "      gap: 12px;\n",
              "    }\n",
              "\n",
              "    .colab-df-convert {\n",
              "      background-color: #E8F0FE;\n",
              "      border: none;\n",
              "      border-radius: 50%;\n",
              "      cursor: pointer;\n",
              "      display: none;\n",
              "      fill: #1967D2;\n",
              "      height: 32px;\n",
              "      padding: 0 0 0 0;\n",
              "      width: 32px;\n",
              "    }\n",
              "\n",
              "    .colab-df-convert:hover {\n",
              "      background-color: #E2EBFA;\n",
              "      box-shadow: 0px 1px 2px rgba(60, 64, 67, 0.3), 0px 1px 3px 1px rgba(60, 64, 67, 0.15);\n",
              "      fill: #174EA6;\n",
              "    }\n",
              "\n",
              "    [theme=dark] .colab-df-convert {\n",
              "      background-color: #3B4455;\n",
              "      fill: #D2E3FC;\n",
              "    }\n",
              "\n",
              "    [theme=dark] .colab-df-convert:hover {\n",
              "      background-color: #434B5C;\n",
              "      box-shadow: 0px 1px 3px 1px rgba(0, 0, 0, 0.15);\n",
              "      filter: drop-shadow(0px 1px 2px rgba(0, 0, 0, 0.3));\n",
              "      fill: #FFFFFF;\n",
              "    }\n",
              "  </style>\n",
              "\n",
              "      <script>\n",
              "        const buttonEl =\n",
              "          document.querySelector('#df-664eb8ff-7fca-422a-b9d2-22fea6a27042 button.colab-df-convert');\n",
              "        buttonEl.style.display =\n",
              "          google.colab.kernel.accessAllowed ? 'block' : 'none';\n",
              "\n",
              "        async function convertToInteractive(key) {\n",
              "          const element = document.querySelector('#df-664eb8ff-7fca-422a-b9d2-22fea6a27042');\n",
              "          const dataTable =\n",
              "            await google.colab.kernel.invokeFunction('convertToInteractive',\n",
              "                                                     [key], {});\n",
              "          if (!dataTable) return;\n",
              "\n",
              "          const docLinkHtml = 'Like what you see? Visit the ' +\n",
              "            '<a target=\"_blank\" href=https://colab.research.google.com/notebooks/data_table.ipynb>data table notebook</a>'\n",
              "            + ' to learn more about interactive tables.';\n",
              "          element.innerHTML = '';\n",
              "          dataTable['output_type'] = 'display_data';\n",
              "          await google.colab.output.renderOutput(dataTable, element);\n",
              "          const docLink = document.createElement('div');\n",
              "          docLink.innerHTML = docLinkHtml;\n",
              "          element.appendChild(docLink);\n",
              "        }\n",
              "      </script>\n",
              "    </div>\n",
              "  </div>\n",
              "  "
            ]
          },
          "metadata": {},
          "execution_count": 4
        }
      ]
    },
    {
      "cell_type": "markdown",
      "source": [
        "Train/test split"
      ],
      "metadata": {
        "id": "JbL4zCVFP5zE"
      },
      "id": "JbL4zCVFP5zE"
    },
    {
      "cell_type": "code",
      "source": [
        "from sklearn.model_selection import train_test_split\n",
        "train_df, valid_df = train_test_split(df, \n",
        "                                   test_size = 0.2, \n",
        "                                   random_state = 2022,\n",
        "                                   stratify = df['class_name'])\n",
        "print('train', train_df.shape[0], 'validation', valid_df.shape[0])\n",
        "train_size = train_df.shape[0]\n",
        "valid_size = valid_df.shape[0]"
      ],
      "metadata": {
        "colab": {
          "base_uri": "https://localhost:8080/"
        },
        "id": "4eAeoCsANvZy",
        "outputId": "7a4c4c3f-c509-4f68-fbb7-8df0ff9ce516"
      },
      "id": "4eAeoCsANvZy",
      "execution_count": null,
      "outputs": [
        {
          "output_type": "stream",
          "name": "stdout",
          "text": [
            "train 80800 validation 20200\n"
          ]
        }
      ]
    },
    {
      "cell_type": "markdown",
      "source": [
        "Create train and validation tf Datasets using info in the dataframes"
      ],
      "metadata": {
        "id": "cdQxQ5AWVdfS"
      },
      "id": "cdQxQ5AWVdfS"
    },
    {
      "cell_type": "code",
      "source": [
        "train_ds = tf.data.Dataset.from_tensor_slices((train_df['path'].values, np.stack(train_df['class'].values,0)))\n",
        "valid_ds = tf.data.Dataset.from_tensor_slices((valid_df['path'].values, np.stack(valid_df['class'].values,0)))"
      ],
      "metadata": {
        "id": "ldye5h_XSTFN"
      },
      "id": "ldye5h_XSTFN",
      "execution_count": null,
      "outputs": []
    },
    {
      "cell_type": "code",
      "source": [
        "# Given tensor tuple (img_path, label), return (img, label)\n",
        "@tf.function\n",
        "def parse_image(img_path, label):\n",
        "    img = tf.io.read_file(img_path) # load image file data as string\n",
        "    img = tf.image.decode_jpeg(img, channels=3) # encode as jpg, 3 channels (RGB)\n",
        "    return img, label"
      ],
      "metadata": {
        "id": "k7gEdOjAUSQ3"
      },
      "id": "k7gEdOjAUSQ3",
      "execution_count": null,
      "outputs": []
    },
    {
      "cell_type": "markdown",
      "id": "741513a6-a09a-4291-bf91-49e060e799b0",
      "metadata": {
        "id": "741513a6-a09a-4291-bf91-49e060e799b0"
      },
      "source": [
        "## Implementing with VGG-16"
      ]
    },
    {
      "cell_type": "code",
      "execution_count": null,
      "id": "ff5d5ea4-fd82-4b7a-86e3-39a06fafc646",
      "metadata": {
        "id": "ff5d5ea4-fd82-4b7a-86e3-39a06fafc646"
      },
      "outputs": [],
      "source": [
        "from tensorflow.keras.applications.vgg16 import preprocess_input\n",
        "\n",
        "# given tensor tuple (img, label), process the image to be ready for vgg16 input\n",
        "# return (img, label)\n",
        "@tf.function\n",
        "def process_image(img, label):\n",
        "  # Resize images\n",
        "  img = tf.image.resize(img, [224, 224]) # vgg16 expects 224x224 images\n",
        "  # rescale to float values in 0-1 (Actually I think this is not done for vgg16 input, commenting this out)\n",
        "  #img = img/255 \n",
        "  # preprocess the input to fit vgg-16 inputs using given preprocessing function\n",
        "  img = preprocess_input(img)\n",
        "  # return as image, label tuple\n",
        "  return img, label"
      ]
    },
    {
      "cell_type": "code",
      "source": [
        "train_ds = train_ds.shuffle(train_size).map(parse_image).map(process_image).batch(32)\n",
        "valid_ds = valid_ds.shuffle(valid_size).map(parse_image).map(process_image).batch(32)"
      ],
      "metadata": {
        "id": "dmJ33W3WSPqd"
      },
      "id": "dmJ33W3WSPqd",
      "execution_count": null,
      "outputs": []
    },
    {
      "cell_type": "markdown",
      "id": "ea23b92c-dbb0-4a80-8181-4516e4c1e630",
      "metadata": {
        "id": "ea23b92c-dbb0-4a80-8181-4516e4c1e630"
      },
      "source": [
        "Load the base pretrained vgg-16 model"
      ]
    },
    {
      "cell_type": "code",
      "execution_count": null,
      "id": "1ee06fc3-7134-4c93-8f14-b4eec5aca6d2",
      "metadata": {
        "id": "1ee06fc3-7134-4c93-8f14-b4eec5aca6d2",
        "colab": {
          "base_uri": "https://localhost:8080/"
        },
        "outputId": "2300da09-1326-4800-8d0e-df660c01d1d4"
      },
      "outputs": [
        {
          "output_type": "stream",
          "name": "stdout",
          "text": [
            "Downloading data from https://storage.googleapis.com/tensorflow/keras-applications/vgg16/vgg16_weights_tf_dim_ordering_tf_kernels_notop.h5\n",
            "58892288/58889256 [==============================] - 1s 0us/step\n",
            "58900480/58889256 [==============================] - 1s 0us/step\n"
          ]
        }
      ],
      "source": [
        "from tensorflow.keras.applications.vgg16 import VGG16\n",
        "\n",
        "# load the VGG-16 model from keras\n",
        "base_model = VGG16(weights=\"imagenet\", include_top=False, input_shape=(224, 224, 3)) # include_top=False to remove the classification layers for the original dataset\n",
        "base_model.trainable = False # Not trainable weights; we don't want to modify the pretrained ImageNet weights"
      ]
    },
    {
      "cell_type": "markdown",
      "id": "c79f1fd6-f459-4147-ad24-b745a96959bf",
      "metadata": {
        "id": "c79f1fd6-f459-4147-ad24-b745a96959bf"
      },
      "source": [
        "Add the last layers to train for our specific problem"
      ]
    },
    {
      "cell_type": "code",
      "execution_count": null,
      "id": "bffec86d-f35a-445c-b964-655db37a04cc",
      "metadata": {
        "id": "bffec86d-f35a-445c-b964-655db37a04cc"
      },
      "outputs": [],
      "source": [
        "from tensorflow.keras import layers, models\n",
        "\n",
        "model = models.Sequential([\n",
        "    base_model, # VGG-16 base model\n",
        "    layers.Flatten(), # flatten layer\n",
        "    layers.Dense(4096, activation='relu'), # dense layer 1\n",
        "    layers.Dense(1072, activation='relu'), # dense layer 2\n",
        "    layers.Dropout(0.2), # Dropout layer to combat overfitting\n",
        "    layers.Dense(num_classes, activation='softmax') # prediction layer\n",
        "])"
      ]
    },
    {
      "cell_type": "markdown",
      "id": "440b1850-3aed-4a08-b7ff-403431c0901a",
      "metadata": {
        "id": "440b1850-3aed-4a08-b7ff-403431c0901a"
      },
      "source": [
        "Compile & train"
      ]
    },
    {
      "cell_type": "code",
      "execution_count": null,
      "id": "5f8db874-9254-4aed-a463-674edff93302",
      "metadata": {
        "id": "5f8db874-9254-4aed-a463-674edff93302",
        "colab": {
          "base_uri": "https://localhost:8080/"
        },
        "outputId": "78088da7-47f2-4898-acc4-d1fb0abc62e1"
      },
      "outputs": [
        {
          "output_type": "stream",
          "name": "stdout",
          "text": [
            "Epoch 1/25\n",
            "2525/2525 [==============================] - ETA: 0s - loss: 5.0317 - accuracy: 0.0599\n",
            "Epoch 1: val_loss improved from inf to 3.86480, saving model to model_v1.weights.best.hdf5\n",
            "2525/2525 [==============================] - 1037s 405ms/step - loss: 5.0317 - accuracy: 0.0599 - val_loss: 3.8648 - val_accuracy: 0.1247\n",
            "Epoch 2/25\n",
            "2525/2525 [==============================] - ETA: 0s - loss: 3.6073 - accuracy: 0.1470\n",
            "Epoch 2: val_loss improved from 3.86480 to 3.13467, saving model to model_v1.weights.best.hdf5\n",
            "2525/2525 [==============================] - 1020s 404ms/step - loss: 3.6073 - accuracy: 0.1470 - val_loss: 3.1347 - val_accuracy: 0.2214\n",
            "Epoch 3/25\n",
            "2525/2525 [==============================] - ETA: 0s - loss: 3.2096 - accuracy: 0.2149\n",
            "Epoch 3: val_loss improved from 3.13467 to 3.05641, saving model to model_v1.weights.best.hdf5\n",
            "2525/2525 [==============================] - 1020s 404ms/step - loss: 3.2096 - accuracy: 0.2149 - val_loss: 3.0564 - val_accuracy: 0.2650\n",
            "Epoch 4/25\n",
            "2525/2525 [==============================] - ETA: 0s - loss: 2.9507 - accuracy: 0.2671\n",
            "Epoch 4: val_loss improved from 3.05641 to 2.92235, saving model to model_v1.weights.best.hdf5\n",
            "2525/2525 [==============================] - 1019s 404ms/step - loss: 2.9507 - accuracy: 0.2671 - val_loss: 2.9223 - val_accuracy: 0.2786\n",
            "Epoch 5/25\n",
            "2525/2525 [==============================] - ETA: 0s - loss: 2.7670 - accuracy: 0.3023\n",
            "Epoch 5: val_loss did not improve from 2.92235\n",
            "2525/2525 [==============================] - 1013s 401ms/step - loss: 2.7670 - accuracy: 0.3023 - val_loss: 2.9691 - val_accuracy: 0.3067\n",
            "Epoch 6/25\n",
            "2525/2525 [==============================] - ETA: 0s - loss: 2.6367 - accuracy: 0.3326\n",
            "Epoch 6: val_loss did not improve from 2.92235\n",
            "2525/2525 [==============================] - 1014s 401ms/step - loss: 2.6367 - accuracy: 0.3326 - val_loss: 2.9838 - val_accuracy: 0.3192\n",
            "Epoch 7/25\n",
            "2525/2525 [==============================] - ETA: 0s - loss: 2.5114 - accuracy: 0.3584\n",
            "Epoch 7: val_loss did not improve from 2.92235\n",
            "2525/2525 [==============================] - 1012s 401ms/step - loss: 2.5114 - accuracy: 0.3584 - val_loss: 2.9428 - val_accuracy: 0.3259\n",
            "Epoch 8/25\n",
            "2525/2525 [==============================] - ETA: 0s - loss: 2.3995 - accuracy: 0.3827\n",
            "Epoch 8: val_loss did not improve from 2.92235\n",
            "2525/2525 [==============================] - 1012s 401ms/step - loss: 2.3995 - accuracy: 0.3827 - val_loss: 3.1809 - val_accuracy: 0.3332\n",
            "Epoch 9/25\n",
            "2525/2525 [==============================] - ETA: 0s - loss: 2.3301 - accuracy: 0.3983\n",
            "Epoch 9: val_loss did not improve from 2.92235\n",
            "2525/2525 [==============================] - 1015s 402ms/step - loss: 2.3301 - accuracy: 0.3983 - val_loss: 3.1236 - val_accuracy: 0.3407\n",
            "Epoch 10/25\n",
            "2525/2525 [==============================] - ETA: 0s - loss: 2.2616 - accuracy: 0.4149\n",
            "Epoch 10: val_loss did not improve from 2.92235\n",
            "2525/2525 [==============================] - 1011s 401ms/step - loss: 2.2616 - accuracy: 0.4149 - val_loss: 3.2407 - val_accuracy: 0.3391\n",
            "Epoch 11/25\n",
            "2525/2525 [==============================] - ETA: 0s - loss: 2.2022 - accuracy: 0.4298\n",
            "Epoch 11: val_loss did not improve from 2.92235\n",
            "2525/2525 [==============================] - 1011s 400ms/step - loss: 2.2022 - accuracy: 0.4298 - val_loss: 3.3298 - val_accuracy: 0.3475\n",
            "Epoch 12/25\n",
            "2525/2525 [==============================] - ETA: 0s - loss: 2.1185 - accuracy: 0.4438\n",
            "Epoch 12: val_loss did not improve from 2.92235\n",
            "2525/2525 [==============================] - 1011s 400ms/step - loss: 2.1185 - accuracy: 0.4438 - val_loss: 3.3182 - val_accuracy: 0.3305\n",
            "Epoch 13/25\n",
            "2525/2525 [==============================] - ETA: 0s - loss: 2.0906 - accuracy: 0.4503\n",
            "Epoch 13: val_loss did not improve from 2.92235\n",
            "2525/2525 [==============================] - 1015s 402ms/step - loss: 2.0906 - accuracy: 0.4503 - val_loss: 3.5828 - val_accuracy: 0.3503\n",
            "Epoch 14/25\n",
            "2525/2525 [==============================] - ETA: 0s - loss: 2.0158 - accuracy: 0.4662\n",
            "Epoch 14: val_loss did not improve from 2.92235\n",
            "2525/2525 [==============================] - 1013s 401ms/step - loss: 2.0158 - accuracy: 0.4662 - val_loss: 3.5949 - val_accuracy: 0.3524\n",
            "Epoch 15/25\n",
            "2525/2525 [==============================] - ETA: 0s - loss: 1.9665 - accuracy: 0.4767\n",
            "Epoch 15: val_loss did not improve from 2.92235\n",
            "2525/2525 [==============================] - 1011s 400ms/step - loss: 1.9665 - accuracy: 0.4767 - val_loss: 3.4672 - val_accuracy: 0.3456\n",
            "Epoch 16/25\n",
            "2525/2525 [==============================] - ETA: 0s - loss: 1.9766 - accuracy: 0.4842\n",
            "Epoch 16: val_loss did not improve from 2.92235\n",
            "2525/2525 [==============================] - 1012s 401ms/step - loss: 1.9766 - accuracy: 0.4842 - val_loss: 4.4349 - val_accuracy: 0.3546\n",
            "Epoch 17/25\n",
            "2525/2525 [==============================] - ETA: 0s - loss: 1.9322 - accuracy: 0.4917\n",
            "Epoch 17: val_loss did not improve from 2.92235\n",
            "2525/2525 [==============================] - 1005s 398ms/step - loss: 1.9322 - accuracy: 0.4917 - val_loss: 4.2226 - val_accuracy: 0.3556\n",
            "Epoch 18/25\n",
            "2525/2525 [==============================] - ETA: 0s - loss: 1.9084 - accuracy: 0.4956\n",
            "Epoch 18: val_loss did not improve from 2.92235\n",
            "2525/2525 [==============================] - 998s 395ms/step - loss: 1.9084 - accuracy: 0.4956 - val_loss: 4.0911 - val_accuracy: 0.3544\n",
            "Epoch 19/25\n",
            "2525/2525 [==============================] - ETA: 0s - loss: 1.8745 - accuracy: 0.5068\n",
            "Epoch 19: val_loss did not improve from 2.92235\n",
            "2525/2525 [==============================] - 999s 396ms/step - loss: 1.8745 - accuracy: 0.5068 - val_loss: 4.5510 - val_accuracy: 0.3573\n",
            "Epoch 20/25\n",
            "2525/2525 [==============================] - ETA: 0s - loss: 1.8818 - accuracy: 0.5088\n",
            "Epoch 20: val_loss did not improve from 2.92235\n",
            "2525/2525 [==============================] - 999s 396ms/step - loss: 1.8818 - accuracy: 0.5088 - val_loss: 3.9220 - val_accuracy: 0.3408\n",
            "Epoch 21/25\n",
            "2525/2525 [==============================] - ETA: 0s - loss: 1.8526 - accuracy: 0.5155\n",
            "Epoch 21: val_loss did not improve from 2.92235\n",
            "2525/2525 [==============================] - 1001s 396ms/step - loss: 1.8526 - accuracy: 0.5155 - val_loss: 4.5267 - val_accuracy: 0.3433\n",
            "Epoch 22/25\n",
            "2525/2525 [==============================] - ETA: 0s - loss: 1.8511 - accuracy: 0.5192\n",
            "Epoch 22: val_loss did not improve from 2.92235\n",
            "2525/2525 [==============================] - 1001s 396ms/step - loss: 1.8511 - accuracy: 0.5192 - val_loss: 4.5260 - val_accuracy: 0.3517\n",
            "Epoch 23/25\n",
            " 778/2525 [========>.....................] - ETA: 9:26 - loss: 1.7616 - accuracy: 0.5303"
          ]
        }
      ],
      "source": [
        "from tensorflow.keras.callbacks import EarlyStopping\n",
        "from tensorflow.keras.callbacks import ModelCheckpoint\n",
        "\n",
        "model.compile(\n",
        "    optimizer='adam', # adam defaults to learning rate=0.001\n",
        "    loss='categorical_crossentropy',\n",
        "    metrics=['accuracy'],\n",
        ")\n",
        "\n",
        "# ModelCheckpoint callback - save best weights after each epoch(?)\n",
        "checkpoint = ModelCheckpoint(filepath='model_v1.weights.best.hdf5',\n",
        "                                  save_best_only=True,\n",
        "                                  verbose=1)\n",
        "\n",
        "# Early Stopping callback - stops early if no improvement is noted, restoring best weights\n",
        "es = EarlyStopping(monitor='val_accuracy', mode='max', patience=7,  restore_best_weights=True)\n",
        "\n",
        "history = model.fit(train_ds, validation_data=valid_ds, epochs=25, callbacks=[es, checkpoint]) #epochs=50,"
      ]
    },
    {
      "cell_type": "code",
      "source": [
        "\"\"\" here is the training log before it disconnected at epoch 23\n",
        "Epoch 1/25\n",
        "2525/2525 [==============================] - ETA: 0s - loss: 5.0317 - accuracy: 0.0599\n",
        "Epoch 1: val_loss improved from inf to 3.86480, saving model to model_v1.weights.best.hdf5\n",
        "2525/2525 [==============================] - 1037s 405ms/step - loss: 5.0317 - accuracy: 0.0599 - val_loss: 3.8648 - val_accuracy: 0.1247\n",
        "Epoch 2/25\n",
        "2525/2525 [==============================] - ETA: 0s - loss: 3.6073 - accuracy: 0.1470\n",
        "Epoch 2: val_loss improved from 3.86480 to 3.13467, saving model to model_v1.weights.best.hdf5\n",
        "2525/2525 [==============================] - 1020s 404ms/step - loss: 3.6073 - accuracy: 0.1470 - val_loss: 3.1347 - val_accuracy: 0.2214\n",
        "Epoch 3/25\n",
        "2525/2525 [==============================] - ETA: 0s - loss: 3.2096 - accuracy: 0.2149\n",
        "Epoch 3: val_loss improved from 3.13467 to 3.05641, saving model to model_v1.weights.best.hdf5\n",
        "2525/2525 [==============================] - 1020s 404ms/step - loss: 3.2096 - accuracy: 0.2149 - val_loss: 3.0564 - val_accuracy: 0.2650\n",
        "Epoch 4/25\n",
        "2525/2525 [==============================] - ETA: 0s - loss: 2.9507 - accuracy: 0.2671\n",
        "Epoch 4: val_loss improved from 3.05641 to 2.92235, saving model to model_v1.weights.best.hdf5\n",
        "2525/2525 [==============================] - 1019s 404ms/step - loss: 2.9507 - accuracy: 0.2671 - val_loss: 2.9223 - val_accuracy: 0.2786\n",
        "Epoch 5/25\n",
        "2525/2525 [==============================] - ETA: 0s - loss: 2.7670 - accuracy: 0.3023\n",
        "Epoch 5: val_loss did not improve from 2.92235\n",
        "2525/2525 [==============================] - 1013s 401ms/step - loss: 2.7670 - accuracy: 0.3023 - val_loss: 2.9691 - val_accuracy: 0.3067\n",
        "Epoch 6/25\n",
        "2525/2525 [==============================] - ETA: 0s - loss: 2.6367 - accuracy: 0.3326\n",
        "Epoch 6: val_loss did not improve from 2.92235\n",
        "2525/2525 [==============================] - 1014s 401ms/step - loss: 2.6367 - accuracy: 0.3326 - val_loss: 2.9838 - val_accuracy: 0.3192\n",
        "Epoch 7/25\n",
        "2525/2525 [==============================] - ETA: 0s - loss: 2.5114 - accuracy: 0.3584\n",
        "Epoch 7: val_loss did not improve from 2.92235\n",
        "2525/2525 [==============================] - 1012s 401ms/step - loss: 2.5114 - accuracy: 0.3584 - val_loss: 2.9428 - val_accuracy: 0.3259\n",
        "Epoch 8/25\n",
        "2525/2525 [==============================] - ETA: 0s - loss: 2.3995 - accuracy: 0.3827\n",
        "Epoch 8: val_loss did not improve from 2.92235\n",
        "2525/2525 [==============================] - 1012s 401ms/step - loss: 2.3995 - accuracy: 0.3827 - val_loss: 3.1809 - val_accuracy: 0.3332\n",
        "Epoch 9/25\n",
        "2525/2525 [==============================] - ETA: 0s - loss: 2.3301 - accuracy: 0.3983\n",
        "Epoch 9: val_loss did not improve from 2.92235\n",
        "2525/2525 [==============================] - 1015s 402ms/step - loss: 2.3301 - accuracy: 0.3983 - val_loss: 3.1236 - val_accuracy: 0.3407\n",
        "Epoch 10/25\n",
        "2525/2525 [==============================] - ETA: 0s - loss: 2.2616 - accuracy: 0.4149\n",
        "Epoch 10: val_loss did not improve from 2.92235\n",
        "2525/2525 [==============================] - 1011s 401ms/step - loss: 2.2616 - accuracy: 0.4149 - val_loss: 3.2407 - val_accuracy: 0.3391\n",
        "Epoch 11/25\n",
        "2525/2525 [==============================] - ETA: 0s - loss: 2.2022 - accuracy: 0.4298\n",
        "Epoch 11: val_loss did not improve from 2.92235\n",
        "2525/2525 [==============================] - 1011s 400ms/step - loss: 2.2022 - accuracy: 0.4298 - val_loss: 3.3298 - val_accuracy: 0.3475\n",
        "Epoch 12/25\n",
        "2525/2525 [==============================] - ETA: 0s - loss: 2.1185 - accuracy: 0.4438\n",
        "Epoch 12: val_loss did not improve from 2.92235\n",
        "2525/2525 [==============================] - 1011s 400ms/step - loss: 2.1185 - accuracy: 0.4438 - val_loss: 3.3182 - val_accuracy: 0.3305\n",
        "Epoch 13/25\n",
        "2525/2525 [==============================] - ETA: 0s - loss: 2.0906 - accuracy: 0.4503\n",
        "Epoch 13: val_loss did not improve from 2.92235\n",
        "2525/2525 [==============================] - 1015s 402ms/step - loss: 2.0906 - accuracy: 0.4503 - val_loss: 3.5828 - val_accuracy: 0.3503\n",
        "Epoch 14/25\n",
        "2525/2525 [==============================] - ETA: 0s - loss: 2.0158 - accuracy: 0.4662\n",
        "Epoch 14: val_loss did not improve from 2.92235\n",
        "2525/2525 [==============================] - 1013s 401ms/step - loss: 2.0158 - accuracy: 0.4662 - val_loss: 3.5949 - val_accuracy: 0.3524\n",
        "Epoch 15/25\n",
        "2525/2525 [==============================] - ETA: 0s - loss: 1.9665 - accuracy: 0.4767\n",
        "Epoch 15: val_loss did not improve from 2.92235\n",
        "2525/2525 [==============================] - 1011s 400ms/step - loss: 1.9665 - accuracy: 0.4767 - val_loss: 3.4672 - val_accuracy: 0.3456\n",
        "Epoch 16/25\n",
        "2525/2525 [==============================] - ETA: 0s - loss: 1.9766 - accuracy: 0.4842\n",
        "Epoch 16: val_loss did not improve from 2.92235\n",
        "2525/2525 [==============================] - 1012s 401ms/step - loss: 1.9766 - accuracy: 0.4842 - val_loss: 4.4349 - val_accuracy: 0.3546\n",
        "Epoch 17/25\n",
        "2525/2525 [==============================] - ETA: 0s - loss: 1.9322 - accuracy: 0.4917\n",
        "Epoch 17: val_loss did not improve from 2.92235\n",
        "2525/2525 [==============================] - 1005s 398ms/step - loss: 1.9322 - accuracy: 0.4917 - val_loss: 4.2226 - val_accuracy: 0.3556\n",
        "Epoch 18/25\n",
        "2525/2525 [==============================] - ETA: 0s - loss: 1.9084 - accuracy: 0.4956\n",
        "Epoch 18: val_loss did not improve from 2.92235\n",
        "2525/2525 [==============================] - 998s 395ms/step - loss: 1.9084 - accuracy: 0.4956 - val_loss: 4.0911 - val_accuracy: 0.3544\n",
        "Epoch 19/25\n",
        "2525/2525 [==============================] - ETA: 0s - loss: 1.8745 - accuracy: 0.5068\n",
        "Epoch 19: val_loss did not improve from 2.92235\n",
        "2525/2525 [==============================] - 999s 396ms/step - loss: 1.8745 - accuracy: 0.5068 - val_loss: 4.5510 - val_accuracy: 0.3573\n",
        "Epoch 20/25\n",
        "2525/2525 [==============================] - ETA: 0s - loss: 1.8818 - accuracy: 0.5088\n",
        "Epoch 20: val_loss did not improve from 2.92235\n",
        "2525/2525 [==============================] - 999s 396ms/step - loss: 1.8818 - accuracy: 0.5088 - val_loss: 3.9220 - val_accuracy: 0.3408\n",
        "Epoch 21/25\n",
        "2525/2525 [==============================] - ETA: 0s - loss: 1.8526 - accuracy: 0.5155\n",
        "Epoch 21: val_loss did not improve from 2.92235\n",
        "2525/2525 [==============================] - 1001s 396ms/step - loss: 1.8526 - accuracy: 0.5155 - val_loss: 4.5267 - val_accuracy: 0.3433\n",
        "Epoch 22/25\n",
        "2525/2525 [==============================] - ETA: 0s - loss: 1.8511 - accuracy: 0.5192\n",
        "Epoch 22: val_loss did not improve from 2.92235\n",
        "2525/2525 [==============================] - 1001s 396ms/step - loss: 1.8511 - accuracy: 0.5192 - val_loss: 4.5260 - val_accuracy: 0.3517\n",
        "Epoch 23/25\n",
        " 778/2525 [========>.....................] - ETA: 9:26 - loss: 1.7616 - accuracy: 0.5303\n",
        " \"\"\""
      ],
      "metadata": {
        "id": "V3ufC9paOiFc"
      },
      "id": "V3ufC9paOiFc",
      "execution_count": null,
      "outputs": []
    },
    {
      "cell_type": "markdown",
      "id": "6039008a-4847-4a9e-89b2-fbf388cb90dc",
      "metadata": {
        "id": "6039008a-4847-4a9e-89b2-fbf388cb90dc"
      },
      "source": [
        "## Learning how to use tf dataset (temporary)"
      ]
    },
    {
      "cell_type": "code",
      "execution_count": null,
      "id": "bf1ce7b6-9fdc-405a-afd9-17d073177d12",
      "metadata": {
        "id": "bf1ce7b6-9fdc-405a-afd9-17d073177d12"
      },
      "outputs": [],
      "source": [
        "# ds_train_X = ds_val_original.images.numpy(aslist=True)\n",
        "# ds_train_y = ds_val_original.categories.numpy(aslist=True)\n",
        "\n",
        "# plt.imshow(ds_train_X[9])\n",
        "# print(ds_train_y[9])\n",
        "# for i in ds_train_y[9]:\n",
        "#     print(categories[i])\n",
        "\n",
        "# ds_val_original[0].categories.numpy().size"
      ]
    }
  ],
  "metadata": {
    "kernelspec": {
      "display_name": "Python 3.9.10 ('.venv-vision')",
      "language": "python",
      "name": "python3910jvsc74a57bd0e6813f5614ae44295f0d68cc4a9fa426ff9642990e7aa30b7a122eccf5803d4c"
    },
    "language_info": {
      "codemirror_mode": {
        "name": "ipython",
        "version": 3
      },
      "file_extension": ".py",
      "mimetype": "text/x-python",
      "name": "python",
      "nbconvert_exporter": "python",
      "pygments_lexer": "ipython3",
      "version": "3.9.10"
    },
    "colab": {
      "name": "food-recognition-v1.ipynb",
      "provenance": [],
      "collapsed_sections": []
    },
    "accelerator": "GPU"
  },
  "nbformat": 4,
  "nbformat_minor": 5
}